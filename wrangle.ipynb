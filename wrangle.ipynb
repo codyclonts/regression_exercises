{
 "cells": [
  {
   "cell_type": "code",
   "execution_count": 2,
   "id": "85c7c34f",
   "metadata": {},
   "outputs": [],
   "source": [
    "import warnings\n",
    "warnings.filterwarnings(\"ignore\")\n",
    "import os\n",
    "import pandas as pd\n",
    "import matplotlib.pyplot as plt\n",
    "import seaborn as sns\n",
    "import numpy as np\n",
    "from env import get_db_url\n",
    "import wrangle\n"
   ]
  },
  {
   "cell_type": "code",
   "execution_count": 3,
   "id": "2b066c90",
   "metadata": {},
   "outputs": [],
   "source": [
    "# exercises 2 question 1"
   ]
  },
  {
   "cell_type": "code",
   "execution_count": 4,
   "id": "9dd40800",
   "metadata": {},
   "outputs": [],
   "source": [
    "#This function acquires the requisite zillow data from the Codeup SQL database and caches it locally it for future use in a csv document; once the data is accessed the function then returns it as a dataframe.\n",
    "def get_zillow_data():\n",
    "    filename = 'zillow_data.csv'\n",
    "\n",
    "    if os.path.isfile(filename):\n",
    "        return pd.read_csv(filename, index_col=0)\n",
    "    else:\n",
    "        df = pd.read_sql(\n",
    "            '''\n",
    "            SELECT bedroomcnt, bathroomcnt, calculatedfinishedsquarefeet, taxvaluedollarcnt, yearbuilt, taxamount, fips  FROM properties_2017 \n",
    "            JOIN propertylandusetype USING (propertylandusetypeid) \n",
    "            WHERE propertylandusedesc = 'Single Family Residential'; \n",
    "            '''\n",
    "            ,\n",
    "            get_db_url('zillow')\n",
    "        )\n",
    "\n",
    "        df.to_csv(filename)\n",
    "\n",
    "        return df"
   ]
  },
  {
   "cell_type": "code",
   "execution_count": 6,
   "id": "9d050918",
   "metadata": {},
   "outputs": [],
   "source": [
    "df = get_zillow_data()"
   ]
  },
  {
   "cell_type": "code",
   "execution_count": 7,
   "id": "7d82884b",
   "metadata": {},
   "outputs": [
    {
     "data": {
      "text/html": [
       "<div>\n",
       "<style scoped>\n",
       "    .dataframe tbody tr th:only-of-type {\n",
       "        vertical-align: middle;\n",
       "    }\n",
       "\n",
       "    .dataframe tbody tr th {\n",
       "        vertical-align: top;\n",
       "    }\n",
       "\n",
       "    .dataframe thead th {\n",
       "        text-align: right;\n",
       "    }\n",
       "</style>\n",
       "<table border=\"1\" class=\"dataframe\">\n",
       "  <thead>\n",
       "    <tr style=\"text-align: right;\">\n",
       "      <th></th>\n",
       "      <th>bedroomcnt</th>\n",
       "      <th>bathroomcnt</th>\n",
       "      <th>calculatedfinishedsquarefeet</th>\n",
       "      <th>taxvaluedollarcnt</th>\n",
       "      <th>yearbuilt</th>\n",
       "      <th>taxamount</th>\n",
       "      <th>fips</th>\n",
       "      <th>parcelid</th>\n",
       "    </tr>\n",
       "  </thead>\n",
       "  <tbody>\n",
       "    <tr>\n",
       "      <th>0</th>\n",
       "      <td>4.0</td>\n",
       "      <td>2.5</td>\n",
       "      <td>2490.0</td>\n",
       "      <td>691000.0</td>\n",
       "      <td>1969.0</td>\n",
       "      <td>7138.64</td>\n",
       "      <td>6059.0</td>\n",
       "      <td>14381521</td>\n",
       "    </tr>\n",
       "    <tr>\n",
       "      <th>1</th>\n",
       "      <td>4.0</td>\n",
       "      <td>2.0</td>\n",
       "      <td>1808.0</td>\n",
       "      <td>241131.0</td>\n",
       "      <td>1980.0</td>\n",
       "      <td>3589.81</td>\n",
       "      <td>6037.0</td>\n",
       "      <td>11108702</td>\n",
       "    </tr>\n",
       "    <tr>\n",
       "      <th>2</th>\n",
       "      <td>4.0</td>\n",
       "      <td>2.0</td>\n",
       "      <td>1878.0</td>\n",
       "      <td>94598.0</td>\n",
       "      <td>1965.0</td>\n",
       "      <td>1415.77</td>\n",
       "      <td>6037.0</td>\n",
       "      <td>10728687</td>\n",
       "    </tr>\n",
       "    <tr>\n",
       "      <th>3</th>\n",
       "      <td>4.0</td>\n",
       "      <td>2.0</td>\n",
       "      <td>1207.0</td>\n",
       "      <td>380736.0</td>\n",
       "      <td>1964.0</td>\n",
       "      <td>3869.62</td>\n",
       "      <td>6059.0</td>\n",
       "      <td>14376191</td>\n",
       "    </tr>\n",
       "    <tr>\n",
       "      <th>4</th>\n",
       "      <td>2.0</td>\n",
       "      <td>1.0</td>\n",
       "      <td>728.0</td>\n",
       "      <td>33497.0</td>\n",
       "      <td>1925.0</td>\n",
       "      <td>974.63</td>\n",
       "      <td>6037.0</td>\n",
       "      <td>12391744</td>\n",
       "    </tr>\n",
       "  </tbody>\n",
       "</table>\n",
       "</div>"
      ],
      "text/plain": [
       "   bedroomcnt  bathroomcnt  calculatedfinishedsquarefeet  taxvaluedollarcnt  \\\n",
       "0         4.0          2.5                        2490.0           691000.0   \n",
       "1         4.0          2.0                        1808.0           241131.0   \n",
       "2         4.0          2.0                        1878.0            94598.0   \n",
       "3         4.0          2.0                        1207.0           380736.0   \n",
       "4         2.0          1.0                         728.0            33497.0   \n",
       "\n",
       "   yearbuilt  taxamount    fips  parcelid  \n",
       "0     1969.0    7138.64  6059.0  14381521  \n",
       "1     1980.0    3589.81  6037.0  11108702  \n",
       "2     1965.0    1415.77  6037.0  10728687  \n",
       "3     1964.0    3869.62  6059.0  14376191  \n",
       "4     1925.0     974.63  6037.0  12391744  "
      ]
     },
     "execution_count": 7,
     "metadata": {},
     "output_type": "execute_result"
    }
   ],
   "source": [
    "df.head()"
   ]
  },
  {
   "cell_type": "code",
   "execution_count": 8,
   "id": "e2058cea",
   "metadata": {},
   "outputs": [
    {
     "name": "stdout",
     "output_type": "stream",
     "text": [
      "<class 'pandas.core.frame.DataFrame'>\n",
      "Int64Index: 52442 entries, 0 to 52441\n",
      "Data columns (total 8 columns):\n",
      " #   Column                        Non-Null Count  Dtype  \n",
      "---  ------                        --------------  -----  \n",
      " 0   bedroomcnt                    52442 non-null  float64\n",
      " 1   bathroomcnt                   52442 non-null  float64\n",
      " 2   calculatedfinishedsquarefeet  52360 non-null  float64\n",
      " 3   taxvaluedollarcnt             52441 non-null  float64\n",
      " 4   yearbuilt                     52326 non-null  float64\n",
      " 5   taxamount                     52438 non-null  float64\n",
      " 6   fips                          52442 non-null  float64\n",
      " 7   parcelid                      52442 non-null  int64  \n",
      "dtypes: float64(7), int64(1)\n",
      "memory usage: 3.6 MB\n"
     ]
    }
   ],
   "source": [
    "df.info(show_counts = True)"
   ]
  },
  {
   "cell_type": "code",
   "execution_count": null,
   "id": "c35704fc",
   "metadata": {},
   "outputs": [],
   "source": [
    "#2 handle nulls"
   ]
  },
  {
   "cell_type": "code",
   "execution_count": 13,
   "id": "1bcf9b8c",
   "metadata": {},
   "outputs": [],
   "source": [
    "# this function drops all the nulls in the data set\n",
    "def handle_nulls(df):\n",
    "    df = df.dropna()\n",
    "    return df"
   ]
  },
  {
   "cell_type": "markdown",
   "id": "246da31c",
   "metadata": {},
   "source": [
    "# 3 final function \n",
    "\n",
    "makes bedroomcnt, calc finished sqr feet, bathroom cnt, taxvaluedollarcnt, year built, fips2 into int columns"
   ]
  },
  {
   "cell_type": "code",
   "execution_count": 15,
   "id": "c4b78b97",
   "metadata": {},
   "outputs": [],
   "source": [
    "def make_int(df):\n",
    "    df = df.astype({'bedroomcnt':'int', 'calculatedfinishedsquarefeet':'int', 'taxvaluedollarcnt':'int', 'yearbuilt':'int','fips':'int'})\n",
    "    return df"
   ]
  },
  {
   "cell_type": "code",
   "execution_count": 16,
   "id": "39c0538d",
   "metadata": {},
   "outputs": [],
   "source": [
    "def fips2(fips):\n",
    "  if fips == 'LA':\n",
    "    return 6037\n",
    "  elif fips == 'Orange':\n",
    "    return 6059\n",
    "  else:\n",
    "    return 6111"
   ]
  },
  {
   "cell_type": "code",
   "execution_count": 17,
   "id": "6f650eb7",
   "metadata": {},
   "outputs": [],
   "source": [
    "\n",
    "def handle_outliers(df):\n",
    "    df = df[df.bathroomcnt <= 6]\n",
    "\n",
    "    df = df[df.bathroomcnt >= 1]\n",
    "    \n",
    "    df = df[df.bedroomcnt <= 6]\n",
    "\n",
    "    df = df[df.bedroomcnt >= 1]\n",
    "\n",
    "    df = df[df.taxvaluedollarcnt < 4_000_000]\n",
    "\n",
    "    df = df[df.calculatedfinishedsquarefeet < 100000]\n",
    "\n",
    "    return df"
   ]
  },
  {
   "cell_type": "code",
   "execution_count": 18,
   "id": "2d78025d",
   "metadata": {},
   "outputs": [],
   "source": [
    "def wrangle_zillow():\n",
    "    df= get_zillow_data()\n",
    "    df = handle_nulls(df)\n",
    "    df = make_int(df)\n",
    "    df = handle_outliers(df)\n",
    "    df['fips'].replace({6037 : 'LA' , 6059 : 'Orange' , 6111: 'Ventura'}, inplace = True)\n",
    "    df['age'] = 2022 - df.yearbuilt\n",
    "    df[\"fips2\"] = df[\"fips\"].apply(lambda fips: fips2(fips))\n",
    "    return df \n"
   ]
  },
  {
   "cell_type": "code",
   "execution_count": 21,
   "id": "336b574f",
   "metadata": {},
   "outputs": [],
   "source": [
    "df = wrangle_zillow()"
   ]
  },
  {
   "cell_type": "code",
   "execution_count": 22,
   "id": "880357e9",
   "metadata": {},
   "outputs": [
    {
     "data": {
      "text/plain": [
       "(51702, 10)"
      ]
     },
     "execution_count": 22,
     "metadata": {},
     "output_type": "execute_result"
    }
   ],
   "source": [
    "df.shape"
   ]
  },
  {
   "cell_type": "code",
   "execution_count": null,
   "id": "a43d86f5",
   "metadata": {},
   "outputs": [],
   "source": []
  }
 ],
 "metadata": {
  "kernelspec": {
   "display_name": "Python 3 (ipykernel)",
   "language": "python",
   "name": "python3"
  },
  "language_info": {
   "codemirror_mode": {
    "name": "ipython",
    "version": 3
   },
   "file_extension": ".py",
   "mimetype": "text/x-python",
   "name": "python",
   "nbconvert_exporter": "python",
   "pygments_lexer": "ipython3",
   "version": "3.9.7"
  }
 },
 "nbformat": 4,
 "nbformat_minor": 5
}
