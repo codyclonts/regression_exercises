{
 "cells": [
  {
   "cell_type": "code",
   "execution_count": 1,
   "id": "28cf99fe",
   "metadata": {},
   "outputs": [],
   "source": [
    "import warnings\n",
    "warnings.filterwarnings(\"ignore\")\n",
    "import os\n",
    "import pandas as pd\n",
    "import matplotlib.pyplot as plt\n",
    "import seaborn as sns\n",
    "import numpy as np\n",
    "from env import get_db_url"
   ]
  },
  {
   "cell_type": "code",
   "execution_count": 2,
   "id": "970b3375",
   "metadata": {},
   "outputs": [],
   "source": [
    "def get_zillow_data():\n",
    "    filename = 'zillow_data.csv'\n",
    "\n",
    "    if os.path.isfile(filename):\n",
    "        return pd.read_csv(filename, index_col=0)\n",
    "    else:\n",
    "        df = pd.read_sql(\n",
    "            '''\n",
    "            SELECT bedroomcnt, bathroomcnt, calculatedfinishedsquarefeet, taxvaluedollarcnt, yearbuilt, taxamount, fips  FROM properties_2017 \n",
    "            JOIN propertylandusetype USING (propertylandusetypeid) \n",
    "            WHERE propertylandusedesc = 'Single Family Residential'; \n",
    "            '''\n",
    "            ,\n",
    "            get_db_url('zillow')\n",
    "        )\n",
    "\n",
    "        df.to_csv(filename)\n",
    "\n",
    "        return df"
   ]
  },
  {
   "cell_type": "code",
   "execution_count": 3,
   "id": "dadc23ab",
   "metadata": {},
   "outputs": [],
   "source": [
    "df = get_zillow_data()"
   ]
  },
  {
   "cell_type": "code",
   "execution_count": 4,
   "id": "8f4eab97",
   "metadata": {},
   "outputs": [
    {
     "data": {
      "text/html": [
       "<div>\n",
       "<style scoped>\n",
       "    .dataframe tbody tr th:only-of-type {\n",
       "        vertical-align: middle;\n",
       "    }\n",
       "\n",
       "    .dataframe tbody tr th {\n",
       "        vertical-align: top;\n",
       "    }\n",
       "\n",
       "    .dataframe thead th {\n",
       "        text-align: right;\n",
       "    }\n",
       "</style>\n",
       "<table border=\"1\" class=\"dataframe\">\n",
       "  <thead>\n",
       "    <tr style=\"text-align: right;\">\n",
       "      <th></th>\n",
       "      <th>bedroomcnt</th>\n",
       "      <th>bathroomcnt</th>\n",
       "      <th>calculatedfinishedsquarefeet</th>\n",
       "      <th>taxvaluedollarcnt</th>\n",
       "      <th>yearbuilt</th>\n",
       "      <th>taxamount</th>\n",
       "      <th>fips</th>\n",
       "    </tr>\n",
       "  </thead>\n",
       "  <tbody>\n",
       "    <tr>\n",
       "      <th>0</th>\n",
       "      <td>0.0</td>\n",
       "      <td>0.0</td>\n",
       "      <td>NaN</td>\n",
       "      <td>27516.0</td>\n",
       "      <td>NaN</td>\n",
       "      <td>NaN</td>\n",
       "      <td>6037.0</td>\n",
       "    </tr>\n",
       "    <tr>\n",
       "      <th>1</th>\n",
       "      <td>0.0</td>\n",
       "      <td>0.0</td>\n",
       "      <td>NaN</td>\n",
       "      <td>10.0</td>\n",
       "      <td>NaN</td>\n",
       "      <td>NaN</td>\n",
       "      <td>6037.0</td>\n",
       "    </tr>\n",
       "    <tr>\n",
       "      <th>2</th>\n",
       "      <td>0.0</td>\n",
       "      <td>0.0</td>\n",
       "      <td>NaN</td>\n",
       "      <td>10.0</td>\n",
       "      <td>NaN</td>\n",
       "      <td>NaN</td>\n",
       "      <td>6037.0</td>\n",
       "    </tr>\n",
       "    <tr>\n",
       "      <th>3</th>\n",
       "      <td>0.0</td>\n",
       "      <td>0.0</td>\n",
       "      <td>NaN</td>\n",
       "      <td>2108.0</td>\n",
       "      <td>NaN</td>\n",
       "      <td>174.21</td>\n",
       "      <td>6037.0</td>\n",
       "    </tr>\n",
       "    <tr>\n",
       "      <th>4</th>\n",
       "      <td>4.0</td>\n",
       "      <td>2.0</td>\n",
       "      <td>3633.0</td>\n",
       "      <td>296425.0</td>\n",
       "      <td>2005.0</td>\n",
       "      <td>6941.39</td>\n",
       "      <td>6037.0</td>\n",
       "    </tr>\n",
       "  </tbody>\n",
       "</table>\n",
       "</div>"
      ],
      "text/plain": [
       "   bedroomcnt  bathroomcnt  calculatedfinishedsquarefeet  taxvaluedollarcnt  \\\n",
       "0         0.0          0.0                           NaN            27516.0   \n",
       "1         0.0          0.0                           NaN               10.0   \n",
       "2         0.0          0.0                           NaN               10.0   \n",
       "3         0.0          0.0                           NaN             2108.0   \n",
       "4         4.0          2.0                        3633.0           296425.0   \n",
       "\n",
       "   yearbuilt  taxamount    fips  \n",
       "0        NaN        NaN  6037.0  \n",
       "1        NaN        NaN  6037.0  \n",
       "2        NaN        NaN  6037.0  \n",
       "3        NaN     174.21  6037.0  \n",
       "4     2005.0    6941.39  6037.0  "
      ]
     },
     "execution_count": 4,
     "metadata": {},
     "output_type": "execute_result"
    }
   ],
   "source": [
    "df.head()"
   ]
  },
  {
   "cell_type": "code",
   "execution_count": 5,
   "id": "646a7254",
   "metadata": {},
   "outputs": [
    {
     "name": "stdout",
     "output_type": "stream",
     "text": [
      "<class 'pandas.core.frame.DataFrame'>\n",
      "Int64Index: 2152863 entries, 0 to 2152862\n",
      "Data columns (total 7 columns):\n",
      " #   Column                        Non-Null Count    Dtype  \n",
      "---  ------                        --------------    -----  \n",
      " 0   bedroomcnt                    2152852 non-null  float64\n",
      " 1   bathroomcnt                   2152852 non-null  float64\n",
      " 2   calculatedfinishedsquarefeet  2144379 non-null  float64\n",
      " 3   taxvaluedollarcnt             2152370 non-null  float64\n",
      " 4   yearbuilt                     2143526 non-null  float64\n",
      " 5   taxamount                     2148421 non-null  float64\n",
      " 6   fips                          2152863 non-null  float64\n",
      "dtypes: float64(7)\n",
      "memory usage: 131.4 MB\n"
     ]
    }
   ],
   "source": [
    "df.info(show_counts = True)"
   ]
  },
  {
   "cell_type": "code",
   "execution_count": 6,
   "id": "08f633e6",
   "metadata": {},
   "outputs": [
    {
     "data": {
      "text/plain": [
       "bedroomcnt                        11\n",
       "bathroomcnt                       11\n",
       "calculatedfinishedsquarefeet    8484\n",
       "taxvaluedollarcnt                493\n",
       "yearbuilt                       9337\n",
       "taxamount                       4442\n",
       "fips                               0\n",
       "dtype: int64"
      ]
     },
     "execution_count": 6,
     "metadata": {},
     "output_type": "execute_result"
    }
   ],
   "source": [
    "df.isnull().sum()"
   ]
  },
  {
   "cell_type": "markdown",
   "id": "19a6ca30",
   "metadata": {},
   "source": [
    " a lot of nulls throughout the dataset"
   ]
  },
  {
   "cell_type": "code",
   "execution_count": 7,
   "id": "47e882bb",
   "metadata": {},
   "outputs": [
    {
     "data": {
      "text/plain": [
       "(2140235, 7)"
      ]
     },
     "execution_count": 7,
     "metadata": {},
     "output_type": "execute_result"
    }
   ],
   "source": [
    "df.dropna().shape"
   ]
  },
  {
   "cell_type": "code",
   "execution_count": 8,
   "id": "d7934a22",
   "metadata": {},
   "outputs": [],
   "source": [
    "df = df[df['yearbuilt'].notna()]"
   ]
  },
  {
   "cell_type": "code",
   "execution_count": 9,
   "id": "540033d7",
   "metadata": {},
   "outputs": [],
   "source": [
    "df = df[df['taxamount'].notna()]"
   ]
  },
  {
   "cell_type": "code",
   "execution_count": 10,
   "id": "38ed95e8",
   "metadata": {},
   "outputs": [],
   "source": [
    "df = df[df['calculatedfinishedsquarefeet'].notna()]"
   ]
  },
  {
   "cell_type": "code",
   "execution_count": 11,
   "id": "976af69e",
   "metadata": {},
   "outputs": [],
   "source": [
    "df = df[df['taxvaluedollarcnt'].notna()]"
   ]
  },
  {
   "cell_type": "code",
   "execution_count": 12,
   "id": "64705fb9",
   "metadata": {},
   "outputs": [
    {
     "data": {
      "text/plain": [
       "(2140235, 7)"
      ]
     },
     "execution_count": 12,
     "metadata": {},
     "output_type": "execute_result"
    }
   ],
   "source": [
    "df.shape"
   ]
  },
  {
   "cell_type": "code",
   "execution_count": 13,
   "id": "6c521ca2",
   "metadata": {},
   "outputs": [
    {
     "data": {
      "text/plain": [
       "bedroomcnt                      0\n",
       "bathroomcnt                     0\n",
       "calculatedfinishedsquarefeet    0\n",
       "taxvaluedollarcnt               0\n",
       "yearbuilt                       0\n",
       "taxamount                       0\n",
       "fips                            0\n",
       "dtype: int64"
      ]
     },
     "execution_count": 13,
     "metadata": {},
     "output_type": "execute_result"
    }
   ],
   "source": [
    "df.isnull().sum()"
   ]
  },
  {
   "cell_type": "code",
   "execution_count": 14,
   "id": "a8015a3f",
   "metadata": {},
   "outputs": [
    {
     "data": {
      "text/plain": [
       "bedroomcnt                      float64\n",
       "bathroomcnt                     float64\n",
       "calculatedfinishedsquarefeet    float64\n",
       "taxvaluedollarcnt               float64\n",
       "yearbuilt                       float64\n",
       "taxamount                       float64\n",
       "fips                            float64\n",
       "dtype: object"
      ]
     },
     "execution_count": 14,
     "metadata": {},
     "output_type": "execute_result"
    }
   ],
   "source": [
    "df.dtypes"
   ]
  },
  {
   "cell_type": "markdown",
   "id": "4b4dfdd0",
   "metadata": {},
   "source": [
    "#write a for loop that will change the columns from floats to ints \n",
    "for column in df.columns:\n",
    "    if df[column] == df.bathroomcnt:\n",
    "        continue\n",
    "    elif df[column].dtype == 'float64':\n",
    "        df[column] = df[column].astype(np.int)"
   ]
  },
  {
   "cell_type": "code",
   "execution_count": 15,
   "id": "6faf1dea",
   "metadata": {},
   "outputs": [
    {
     "name": "stdout",
     "output_type": "stream",
     "text": [
      "<class 'pandas.core.frame.DataFrame'>\n",
      "Int64Index: 2140235 entries, 4 to 2152862\n",
      "Data columns (total 7 columns):\n",
      " #   Column                        Dtype  \n",
      "---  ------                        -----  \n",
      " 0   bedroomcnt                    int64  \n",
      " 1   bathroomcnt                   float64\n",
      " 2   calculatedfinishedsquarefeet  int64  \n",
      " 3   taxvaluedollarcnt             int64  \n",
      " 4   yearbuilt                     int64  \n",
      " 5   taxamount                     int64  \n",
      " 6   fips                          int64  \n",
      "dtypes: float64(1), int64(6)\n",
      "memory usage: 130.6 MB\n"
     ]
    }
   ],
   "source": [
    "df = df.astype({'bedroomcnt':'int', 'calculatedfinishedsquarefeet':'int', 'taxvaluedollarcnt':'int', 'yearbuilt':'int', 'taxamount':'int','fips':'int'})\n",
    "df.info()"
   ]
  },
  {
   "cell_type": "code",
   "execution_count": 16,
   "id": "fcb9f4ae",
   "metadata": {},
   "outputs": [
    {
     "data": {
      "text/html": [
       "<div>\n",
       "<style scoped>\n",
       "    .dataframe tbody tr th:only-of-type {\n",
       "        vertical-align: middle;\n",
       "    }\n",
       "\n",
       "    .dataframe tbody tr th {\n",
       "        vertical-align: top;\n",
       "    }\n",
       "\n",
       "    .dataframe thead th {\n",
       "        text-align: right;\n",
       "    }\n",
       "</style>\n",
       "<table border=\"1\" class=\"dataframe\">\n",
       "  <thead>\n",
       "    <tr style=\"text-align: right;\">\n",
       "      <th></th>\n",
       "      <th>count</th>\n",
       "      <th>mean</th>\n",
       "      <th>std</th>\n",
       "      <th>min</th>\n",
       "      <th>25%</th>\n",
       "      <th>50%</th>\n",
       "      <th>75%</th>\n",
       "      <th>max</th>\n",
       "    </tr>\n",
       "  </thead>\n",
       "  <tbody>\n",
       "    <tr>\n",
       "      <th>bedroomcnt</th>\n",
       "      <td>2140235.0</td>\n",
       "      <td>3.301419</td>\n",
       "      <td>0.932600</td>\n",
       "      <td>0.0</td>\n",
       "      <td>3.0</td>\n",
       "      <td>3.0</td>\n",
       "      <td>4.0</td>\n",
       "      <td>25.0</td>\n",
       "    </tr>\n",
       "    <tr>\n",
       "      <th>bathroomcnt</th>\n",
       "      <td>2140235.0</td>\n",
       "      <td>2.240352</td>\n",
       "      <td>0.990549</td>\n",
       "      <td>0.0</td>\n",
       "      <td>2.0</td>\n",
       "      <td>2.0</td>\n",
       "      <td>3.0</td>\n",
       "      <td>32.0</td>\n",
       "    </tr>\n",
       "    <tr>\n",
       "      <th>calculatedfinishedsquarefeet</th>\n",
       "      <td>2140235.0</td>\n",
       "      <td>1863.193970</td>\n",
       "      <td>1221.754161</td>\n",
       "      <td>1.0</td>\n",
       "      <td>1258.0</td>\n",
       "      <td>1623.0</td>\n",
       "      <td>2208.0</td>\n",
       "      <td>952576.0</td>\n",
       "    </tr>\n",
       "    <tr>\n",
       "      <th>taxvaluedollarcnt</th>\n",
       "      <td>2140235.0</td>\n",
       "      <td>460641.625164</td>\n",
       "      <td>677157.635675</td>\n",
       "      <td>22.0</td>\n",
       "      <td>189166.0</td>\n",
       "      <td>328296.0</td>\n",
       "      <td>534606.0</td>\n",
       "      <td>90188462.0</td>\n",
       "    </tr>\n",
       "    <tr>\n",
       "      <th>yearbuilt</th>\n",
       "      <td>2140235.0</td>\n",
       "      <td>1960.967545</td>\n",
       "      <td>22.150563</td>\n",
       "      <td>1801.0</td>\n",
       "      <td>1949.0</td>\n",
       "      <td>1958.0</td>\n",
       "      <td>1976.0</td>\n",
       "      <td>2016.0</td>\n",
       "    </tr>\n",
       "    <tr>\n",
       "      <th>taxamount</th>\n",
       "      <td>2140235.0</td>\n",
       "      <td>5616.218147</td>\n",
       "      <td>7814.562814</td>\n",
       "      <td>6.0</td>\n",
       "      <td>2540.0</td>\n",
       "      <td>4111.0</td>\n",
       "      <td>6411.0</td>\n",
       "      <td>1078101.0</td>\n",
       "    </tr>\n",
       "    <tr>\n",
       "      <th>fips</th>\n",
       "      <td>2140235.0</td>\n",
       "      <td>6048.309556</td>\n",
       "      <td>20.344910</td>\n",
       "      <td>6037.0</td>\n",
       "      <td>6037.0</td>\n",
       "      <td>6037.0</td>\n",
       "      <td>6059.0</td>\n",
       "      <td>6111.0</td>\n",
       "    </tr>\n",
       "  </tbody>\n",
       "</table>\n",
       "</div>"
      ],
      "text/plain": [
       "                                  count           mean            std     min  \\\n",
       "bedroomcnt                    2140235.0       3.301419       0.932600     0.0   \n",
       "bathroomcnt                   2140235.0       2.240352       0.990549     0.0   \n",
       "calculatedfinishedsquarefeet  2140235.0    1863.193970    1221.754161     1.0   \n",
       "taxvaluedollarcnt             2140235.0  460641.625164  677157.635675    22.0   \n",
       "yearbuilt                     2140235.0    1960.967545      22.150563  1801.0   \n",
       "taxamount                     2140235.0    5616.218147    7814.562814     6.0   \n",
       "fips                          2140235.0    6048.309556      20.344910  6037.0   \n",
       "\n",
       "                                   25%       50%       75%         max  \n",
       "bedroomcnt                         3.0       3.0       4.0        25.0  \n",
       "bathroomcnt                        2.0       2.0       3.0        32.0  \n",
       "calculatedfinishedsquarefeet    1258.0    1623.0    2208.0    952576.0  \n",
       "taxvaluedollarcnt             189166.0  328296.0  534606.0  90188462.0  \n",
       "yearbuilt                       1949.0    1958.0    1976.0      2016.0  \n",
       "taxamount                       2540.0    4111.0    6411.0   1078101.0  \n",
       "fips                            6037.0    6037.0    6059.0      6111.0  "
      ]
     },
     "execution_count": 16,
     "metadata": {},
     "output_type": "execute_result"
    }
   ],
   "source": [
    "df.describe().T"
   ]
  },
  {
   "cell_type": "code",
   "execution_count": 17,
   "id": "01964918",
   "metadata": {},
   "outputs": [
    {
     "data": {
      "text/html": [
       "<div>\n",
       "<style scoped>\n",
       "    .dataframe tbody tr th:only-of-type {\n",
       "        vertical-align: middle;\n",
       "    }\n",
       "\n",
       "    .dataframe tbody tr th {\n",
       "        vertical-align: top;\n",
       "    }\n",
       "\n",
       "    .dataframe thead th {\n",
       "        text-align: right;\n",
       "    }\n",
       "</style>\n",
       "<table border=\"1\" class=\"dataframe\">\n",
       "  <thead>\n",
       "    <tr style=\"text-align: right;\">\n",
       "      <th></th>\n",
       "      <th>bedroomcnt</th>\n",
       "      <th>bathroomcnt</th>\n",
       "      <th>calculatedfinishedsquarefeet</th>\n",
       "      <th>taxvaluedollarcnt</th>\n",
       "      <th>yearbuilt</th>\n",
       "      <th>taxamount</th>\n",
       "      <th>fips</th>\n",
       "    </tr>\n",
       "  </thead>\n",
       "  <tbody>\n",
       "    <tr>\n",
       "      <th>14</th>\n",
       "      <td>0</td>\n",
       "      <td>0.0</td>\n",
       "      <td>171</td>\n",
       "      <td>6920</td>\n",
       "      <td>1973</td>\n",
       "      <td>255</td>\n",
       "      <td>6037</td>\n",
       "    </tr>\n",
       "    <tr>\n",
       "      <th>15</th>\n",
       "      <td>0</td>\n",
       "      <td>0.0</td>\n",
       "      <td>203</td>\n",
       "      <td>14166</td>\n",
       "      <td>1960</td>\n",
       "      <td>163</td>\n",
       "      <td>6037</td>\n",
       "    </tr>\n",
       "    <tr>\n",
       "      <th>392</th>\n",
       "      <td>1</td>\n",
       "      <td>1.0</td>\n",
       "      <td>371</td>\n",
       "      <td>358040</td>\n",
       "      <td>1953</td>\n",
       "      <td>4047</td>\n",
       "      <td>6111</td>\n",
       "    </tr>\n",
       "    <tr>\n",
       "      <th>866</th>\n",
       "      <td>0</td>\n",
       "      <td>0.0</td>\n",
       "      <td>220</td>\n",
       "      <td>13840</td>\n",
       "      <td>1988</td>\n",
       "      <td>327</td>\n",
       "      <td>6037</td>\n",
       "    </tr>\n",
       "    <tr>\n",
       "      <th>2313</th>\n",
       "      <td>0</td>\n",
       "      <td>0.0</td>\n",
       "      <td>352</td>\n",
       "      <td>25464</td>\n",
       "      <td>1948</td>\n",
       "      <td>415</td>\n",
       "      <td>6037</td>\n",
       "    </tr>\n",
       "    <tr>\n",
       "      <th>...</th>\n",
       "      <td>...</td>\n",
       "      <td>...</td>\n",
       "      <td>...</td>\n",
       "      <td>...</td>\n",
       "      <td>...</td>\n",
       "      <td>...</td>\n",
       "      <td>...</td>\n",
       "    </tr>\n",
       "    <tr>\n",
       "      <th>2146189</th>\n",
       "      <td>0</td>\n",
       "      <td>0.0</td>\n",
       "      <td>330</td>\n",
       "      <td>16311</td>\n",
       "      <td>1925</td>\n",
       "      <td>297</td>\n",
       "      <td>6037</td>\n",
       "    </tr>\n",
       "    <tr>\n",
       "      <th>2148704</th>\n",
       "      <td>1</td>\n",
       "      <td>1.0</td>\n",
       "      <td>396</td>\n",
       "      <td>100903</td>\n",
       "      <td>1926</td>\n",
       "      <td>1513</td>\n",
       "      <td>6037</td>\n",
       "    </tr>\n",
       "    <tr>\n",
       "      <th>2151106</th>\n",
       "      <td>1</td>\n",
       "      <td>1.0</td>\n",
       "      <td>364</td>\n",
       "      <td>262581</td>\n",
       "      <td>1923</td>\n",
       "      <td>3895</td>\n",
       "      <td>6059</td>\n",
       "    </tr>\n",
       "    <tr>\n",
       "      <th>2151361</th>\n",
       "      <td>1</td>\n",
       "      <td>1.0</td>\n",
       "      <td>384</td>\n",
       "      <td>263965</td>\n",
       "      <td>1922</td>\n",
       "      <td>3291</td>\n",
       "      <td>6059</td>\n",
       "    </tr>\n",
       "    <tr>\n",
       "      <th>2152505</th>\n",
       "      <td>0</td>\n",
       "      <td>0.0</td>\n",
       "      <td>240</td>\n",
       "      <td>31234</td>\n",
       "      <td>1942</td>\n",
       "      <td>414</td>\n",
       "      <td>6037</td>\n",
       "    </tr>\n",
       "  </tbody>\n",
       "</table>\n",
       "<p>2009 rows × 7 columns</p>\n",
       "</div>"
      ],
      "text/plain": [
       "         bedroomcnt  bathroomcnt  calculatedfinishedsquarefeet  \\\n",
       "14                0          0.0                           171   \n",
       "15                0          0.0                           203   \n",
       "392               1          1.0                           371   \n",
       "866               0          0.0                           220   \n",
       "2313              0          0.0                           352   \n",
       "...             ...          ...                           ...   \n",
       "2146189           0          0.0                           330   \n",
       "2148704           1          1.0                           396   \n",
       "2151106           1          1.0                           364   \n",
       "2151361           1          1.0                           384   \n",
       "2152505           0          0.0                           240   \n",
       "\n",
       "         taxvaluedollarcnt  yearbuilt  taxamount  fips  \n",
       "14                    6920       1973        255  6037  \n",
       "15                   14166       1960        163  6037  \n",
       "392                 358040       1953       4047  6111  \n",
       "866                  13840       1988        327  6037  \n",
       "2313                 25464       1948        415  6037  \n",
       "...                    ...        ...        ...   ...  \n",
       "2146189              16311       1925        297  6037  \n",
       "2148704             100903       1926       1513  6037  \n",
       "2151106             262581       1923       3895  6059  \n",
       "2151361             263965       1922       3291  6059  \n",
       "2152505              31234       1942        414  6037  \n",
       "\n",
       "[2009 rows x 7 columns]"
      ]
     },
     "execution_count": 17,
     "metadata": {},
     "output_type": "execute_result"
    }
   ],
   "source": [
    "df[df['calculatedfinishedsquarefeet'] < 400]"
   ]
  },
  {
   "cell_type": "code",
   "execution_count": 18,
   "id": "a6dd6203",
   "metadata": {},
   "outputs": [],
   "source": [
    "df = df[df['calculatedfinishedsquarefeet'] > 400]"
   ]
  },
  {
   "cell_type": "code",
   "execution_count": 19,
   "id": "0b52db3b",
   "metadata": {},
   "outputs": [
    {
     "data": {
      "text/html": [
       "<div>\n",
       "<style scoped>\n",
       "    .dataframe tbody tr th:only-of-type {\n",
       "        vertical-align: middle;\n",
       "    }\n",
       "\n",
       "    .dataframe tbody tr th {\n",
       "        vertical-align: top;\n",
       "    }\n",
       "\n",
       "    .dataframe thead th {\n",
       "        text-align: right;\n",
       "    }\n",
       "</style>\n",
       "<table border=\"1\" class=\"dataframe\">\n",
       "  <thead>\n",
       "    <tr style=\"text-align: right;\">\n",
       "      <th></th>\n",
       "      <th>bedroomcnt</th>\n",
       "      <th>bathroomcnt</th>\n",
       "      <th>calculatedfinishedsquarefeet</th>\n",
       "      <th>taxvaluedollarcnt</th>\n",
       "      <th>yearbuilt</th>\n",
       "      <th>taxamount</th>\n",
       "      <th>fips</th>\n",
       "    </tr>\n",
       "  </thead>\n",
       "  <tbody>\n",
       "    <tr>\n",
       "      <th>11</th>\n",
       "      <td>0</td>\n",
       "      <td>0.0</td>\n",
       "      <td>1200</td>\n",
       "      <td>5328</td>\n",
       "      <td>1972</td>\n",
       "      <td>91</td>\n",
       "      <td>6037</td>\n",
       "    </tr>\n",
       "    <tr>\n",
       "      <th>2306</th>\n",
       "      <td>0</td>\n",
       "      <td>0.0</td>\n",
       "      <td>1776</td>\n",
       "      <td>79574</td>\n",
       "      <td>1989</td>\n",
       "      <td>1137</td>\n",
       "      <td>6037</td>\n",
       "    </tr>\n",
       "    <tr>\n",
       "      <th>2676</th>\n",
       "      <td>0</td>\n",
       "      <td>0.0</td>\n",
       "      <td>1057</td>\n",
       "      <td>344835</td>\n",
       "      <td>1942</td>\n",
       "      <td>4528</td>\n",
       "      <td>6037</td>\n",
       "    </tr>\n",
       "    <tr>\n",
       "      <th>3530</th>\n",
       "      <td>0</td>\n",
       "      <td>0.0</td>\n",
       "      <td>1281</td>\n",
       "      <td>187179</td>\n",
       "      <td>1920</td>\n",
       "      <td>2412</td>\n",
       "      <td>6037</td>\n",
       "    </tr>\n",
       "    <tr>\n",
       "      <th>3740</th>\n",
       "      <td>0</td>\n",
       "      <td>0.0</td>\n",
       "      <td>800</td>\n",
       "      <td>22469</td>\n",
       "      <td>1951</td>\n",
       "      <td>273</td>\n",
       "      <td>6037</td>\n",
       "    </tr>\n",
       "    <tr>\n",
       "      <th>...</th>\n",
       "      <td>...</td>\n",
       "      <td>...</td>\n",
       "      <td>...</td>\n",
       "      <td>...</td>\n",
       "      <td>...</td>\n",
       "      <td>...</td>\n",
       "      <td>...</td>\n",
       "    </tr>\n",
       "    <tr>\n",
       "      <th>2140196</th>\n",
       "      <td>0</td>\n",
       "      <td>0.0</td>\n",
       "      <td>2738</td>\n",
       "      <td>741817</td>\n",
       "      <td>1947</td>\n",
       "      <td>8854</td>\n",
       "      <td>6059</td>\n",
       "    </tr>\n",
       "    <tr>\n",
       "      <th>2142189</th>\n",
       "      <td>0</td>\n",
       "      <td>0.0</td>\n",
       "      <td>462</td>\n",
       "      <td>26004</td>\n",
       "      <td>1980</td>\n",
       "      <td>643</td>\n",
       "      <td>6037</td>\n",
       "    </tr>\n",
       "    <tr>\n",
       "      <th>2144648</th>\n",
       "      <td>0</td>\n",
       "      <td>0.0</td>\n",
       "      <td>936</td>\n",
       "      <td>33811</td>\n",
       "      <td>1961</td>\n",
       "      <td>536</td>\n",
       "      <td>6037</td>\n",
       "    </tr>\n",
       "    <tr>\n",
       "      <th>2146660</th>\n",
       "      <td>0</td>\n",
       "      <td>0.0</td>\n",
       "      <td>676</td>\n",
       "      <td>234580</td>\n",
       "      <td>1922</td>\n",
       "      <td>3013</td>\n",
       "      <td>6037</td>\n",
       "    </tr>\n",
       "    <tr>\n",
       "      <th>2149054</th>\n",
       "      <td>0</td>\n",
       "      <td>0.0</td>\n",
       "      <td>938</td>\n",
       "      <td>56733</td>\n",
       "      <td>1978</td>\n",
       "      <td>986</td>\n",
       "      <td>6037</td>\n",
       "    </tr>\n",
       "  </tbody>\n",
       "</table>\n",
       "<p>2007 rows × 7 columns</p>\n",
       "</div>"
      ],
      "text/plain": [
       "         bedroomcnt  bathroomcnt  calculatedfinishedsquarefeet  \\\n",
       "11                0          0.0                          1200   \n",
       "2306              0          0.0                          1776   \n",
       "2676              0          0.0                          1057   \n",
       "3530              0          0.0                          1281   \n",
       "3740              0          0.0                           800   \n",
       "...             ...          ...                           ...   \n",
       "2140196           0          0.0                          2738   \n",
       "2142189           0          0.0                           462   \n",
       "2144648           0          0.0                           936   \n",
       "2146660           0          0.0                           676   \n",
       "2149054           0          0.0                           938   \n",
       "\n",
       "         taxvaluedollarcnt  yearbuilt  taxamount  fips  \n",
       "11                    5328       1972         91  6037  \n",
       "2306                 79574       1989       1137  6037  \n",
       "2676                344835       1942       4528  6037  \n",
       "3530                187179       1920       2412  6037  \n",
       "3740                 22469       1951        273  6037  \n",
       "...                    ...        ...        ...   ...  \n",
       "2140196             741817       1947       8854  6059  \n",
       "2142189              26004       1980        643  6037  \n",
       "2144648              33811       1961        536  6037  \n",
       "2146660             234580       1922       3013  6037  \n",
       "2149054              56733       1978        986  6037  \n",
       "\n",
       "[2007 rows x 7 columns]"
      ]
     },
     "execution_count": 19,
     "metadata": {},
     "output_type": "execute_result"
    }
   ],
   "source": [
    "# finds all zillow places that have both no rooms and no bathrooms\n",
    "df.loc[df['bathroomcnt'].eq(0) & df['bedroomcnt'].eq(0)]"
   ]
  },
  {
   "cell_type": "code",
   "execution_count": 22,
   "id": "c40dffd6",
   "metadata": {},
   "outputs": [
    {
     "data": {
      "text/plain": [
       "(2137915, 7)"
      ]
     },
     "execution_count": 22,
     "metadata": {},
     "output_type": "execute_result"
    }
   ],
   "source": [
    "df.shape"
   ]
  },
  {
   "cell_type": "code",
   "execution_count": 25,
   "id": "641ebb6b",
   "metadata": {},
   "outputs": [],
   "source": [
    "# drop all listings that have no bedroom AND no bathroom \n",
    "df = df.drop(df.loc[df['bathroomcnt'].eq(0) & df['bedroomcnt'].eq(0)].index)"
   ]
  },
  {
   "cell_type": "code",
   "execution_count": 26,
   "id": "1c4a9b4f",
   "metadata": {},
   "outputs": [
    {
     "data": {
      "text/plain": [
       "(2135908, 7)"
      ]
     },
     "execution_count": 26,
     "metadata": {},
     "output_type": "execute_result"
    }
   ],
   "source": [
    "df.shape"
   ]
  },
  {
   "cell_type": "code",
   "execution_count": null,
   "id": "d35fde23",
   "metadata": {},
   "outputs": [],
   "source": []
  }
 ],
 "metadata": {
  "kernelspec": {
   "display_name": "Python 3 (ipykernel)",
   "language": "python",
   "name": "python3"
  },
  "language_info": {
   "codemirror_mode": {
    "name": "ipython",
    "version": 3
   },
   "file_extension": ".py",
   "mimetype": "text/x-python",
   "name": "python",
   "nbconvert_exporter": "python",
   "pygments_lexer": "ipython3",
   "version": "3.9.7"
  }
 },
 "nbformat": 4,
 "nbformat_minor": 5
}
