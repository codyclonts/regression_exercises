{
 "cells": [
  {
   "cell_type": "code",
   "execution_count": 1,
   "id": "0ff3c9b4",
   "metadata": {},
   "outputs": [],
   "source": [
    "import pandas as pd \n",
    "import wrangle\n",
    "import numpy as np\n",
    "import seaborn as sns\n",
    "import matplotlib.pyplot as plt \n",
    "from sklearn.linear_model import LinearRegression\n",
    "from scipy import stats\n",
    "from sklearn.metrics import mean_squared_error, r2_score, explained_variance_score\n",
    "\n",
    "from sklearn.linear_model import LinearRegression\n",
    "from sklearn.feature_selection import f_regression \n",
    "from math import sqrt\n",
    "import warnings\n",
    "warnings.filterwarnings('ignore')\n",
    "from sklearn.metrics import mean_squared_error\n",
    "\n"
   ]
  },
  {
   "cell_type": "code",
   "execution_count": 2,
   "id": "fd620225",
   "metadata": {},
   "outputs": [],
   "source": [
    "# 1 load the zillow dataset \n",
    "df = wrangle.wrangle_zillow()"
   ]
  },
  {
   "cell_type": "code",
   "execution_count": 3,
   "id": "42ec92f4",
   "metadata": {},
   "outputs": [
    {
     "data": {
      "text/html": [
       "<div>\n",
       "<style scoped>\n",
       "    .dataframe tbody tr th:only-of-type {\n",
       "        vertical-align: middle;\n",
       "    }\n",
       "\n",
       "    .dataframe tbody tr th {\n",
       "        vertical-align: top;\n",
       "    }\n",
       "\n",
       "    .dataframe thead th {\n",
       "        text-align: right;\n",
       "    }\n",
       "</style>\n",
       "<table border=\"1\" class=\"dataframe\">\n",
       "  <thead>\n",
       "    <tr style=\"text-align: right;\">\n",
       "      <th></th>\n",
       "      <th>bedroomcnt</th>\n",
       "      <th>bathroomcnt</th>\n",
       "      <th>calculatedfinishedsquarefeet</th>\n",
       "      <th>taxvaluedollarcnt</th>\n",
       "      <th>yearbuilt</th>\n",
       "      <th>taxamount</th>\n",
       "      <th>fips</th>\n",
       "    </tr>\n",
       "  </thead>\n",
       "  <tbody>\n",
       "    <tr>\n",
       "      <th>4</th>\n",
       "      <td>4</td>\n",
       "      <td>2.0</td>\n",
       "      <td>3633</td>\n",
       "      <td>296425</td>\n",
       "      <td>2005</td>\n",
       "      <td>6941.39</td>\n",
       "      <td>LA</td>\n",
       "    </tr>\n",
       "    <tr>\n",
       "      <th>6</th>\n",
       "      <td>3</td>\n",
       "      <td>4.0</td>\n",
       "      <td>1620</td>\n",
       "      <td>847770</td>\n",
       "      <td>2011</td>\n",
       "      <td>10244.94</td>\n",
       "      <td>LA</td>\n",
       "    </tr>\n",
       "    <tr>\n",
       "      <th>7</th>\n",
       "      <td>3</td>\n",
       "      <td>2.0</td>\n",
       "      <td>2077</td>\n",
       "      <td>646760</td>\n",
       "      <td>1926</td>\n",
       "      <td>7924.68</td>\n",
       "      <td>LA</td>\n",
       "    </tr>\n",
       "    <tr>\n",
       "      <th>11</th>\n",
       "      <td>0</td>\n",
       "      <td>0.0</td>\n",
       "      <td>1200</td>\n",
       "      <td>5328</td>\n",
       "      <td>1972</td>\n",
       "      <td>91.60</td>\n",
       "      <td>LA</td>\n",
       "    </tr>\n",
       "    <tr>\n",
       "      <th>14</th>\n",
       "      <td>0</td>\n",
       "      <td>0.0</td>\n",
       "      <td>171</td>\n",
       "      <td>6920</td>\n",
       "      <td>1973</td>\n",
       "      <td>255.17</td>\n",
       "      <td>LA</td>\n",
       "    </tr>\n",
       "  </tbody>\n",
       "</table>\n",
       "</div>"
      ],
      "text/plain": [
       "    bedroomcnt  bathroomcnt  calculatedfinishedsquarefeet  taxvaluedollarcnt  \\\n",
       "4            4          2.0                          3633             296425   \n",
       "6            3          4.0                          1620             847770   \n",
       "7            3          2.0                          2077             646760   \n",
       "11           0          0.0                          1200               5328   \n",
       "14           0          0.0                           171               6920   \n",
       "\n",
       "    yearbuilt  taxamount fips  \n",
       "4        2005    6941.39   LA  \n",
       "6        2011   10244.94   LA  \n",
       "7        1926    7924.68   LA  \n",
       "11       1972      91.60   LA  \n",
       "14       1973     255.17   LA  "
      ]
     },
     "execution_count": 3,
     "metadata": {},
     "output_type": "execute_result"
    }
   ],
   "source": [
    "df.head()"
   ]
  },
  {
   "cell_type": "code",
   "execution_count": 4,
   "id": "b7c7bb4d",
   "metadata": {},
   "outputs": [
    {
     "data": {
      "text/plain": [
       "bedroomcnt                        int64\n",
       "bathroomcnt                     float64\n",
       "calculatedfinishedsquarefeet      int64\n",
       "taxvaluedollarcnt                 int64\n",
       "yearbuilt                         int64\n",
       "taxamount                       float64\n",
       "fips                             object\n",
       "dtype: object"
      ]
     },
     "execution_count": 4,
     "metadata": {},
     "output_type": "execute_result"
    }
   ],
   "source": [
    "df.dtypes"
   ]
  },
  {
   "cell_type": "code",
   "execution_count": 5,
   "id": "a075fa28",
   "metadata": {},
   "outputs": [],
   "source": [
    "train, validate, test = wrangle.split_zillow_data(df)"
   ]
  },
  {
   "cell_type": "code",
   "execution_count": 33,
   "id": "9462392d",
   "metadata": {},
   "outputs": [
    {
     "name": "stdout",
     "output_type": "stream",
     "text": [
      "(1340532, 13) (335134, 7) (418917, 7)\n"
     ]
    }
   ],
   "source": [
    "print(train.shape, validate.shape, test.shape)"
   ]
  },
  {
   "cell_type": "markdown",
   "id": "6fbcd246",
   "metadata": {},
   "source": [
    "### 2.) fit a linear regression model (ordinary least squares) and compute yhat, predictions of taxvaluedollarcnt using only calculatedfinishedsqft"
   ]
  },
  {
   "cell_type": "code",
   "execution_count": 6,
   "id": "6e0cbab2",
   "metadata": {},
   "outputs": [],
   "source": [
    "x= pd.DataFrame(train.calculatedfinishedsquarefeet)\n",
    "y = train.taxvaluedollarcnt\n"
   ]
  },
  {
   "cell_type": "code",
   "execution_count": 36,
   "id": "cb7617ed",
   "metadata": {},
   "outputs": [
    {
     "data": {
      "text/plain": [
       "398761.06098026753"
      ]
     },
     "execution_count": 36,
     "metadata": {},
     "output_type": "execute_result"
    }
   ],
   "source": [
    "baseline = train.taxvaluedollarcnt.mean()\n",
    "baseline"
   ]
  },
  {
   "cell_type": "code",
   "execution_count": 37,
   "id": "57bf8b56",
   "metadata": {},
   "outputs": [
    {
     "data": {
      "text/plain": [
       "(1340532,)"
      ]
     },
     "execution_count": 37,
     "metadata": {},
     "output_type": "execute_result"
    }
   ],
   "source": [
    "train['yhat_baseline'] = yhat_baseline = train.taxvaluedollarcnt.mean()\n",
    "train.yhat_baseline.shape"
   ]
  },
  {
   "cell_type": "code",
   "execution_count": 8,
   "id": "f83ed65c",
   "metadata": {},
   "outputs": [],
   "source": [
    "model = LinearRegression().fit(x,  y)\n",
    "train['yhat'] = model.predict(x)"
   ]
  },
  {
   "cell_type": "code",
   "execution_count": 9,
   "id": "8d3e1187",
   "metadata": {},
   "outputs": [],
   "source": [
    "train['yhat'] = model.predict(x)"
   ]
  },
  {
   "cell_type": "code",
   "execution_count": 10,
   "id": "bf93659d",
   "metadata": {},
   "outputs": [
    {
     "data": {
      "text/html": [
       "<div>\n",
       "<style scoped>\n",
       "    .dataframe tbody tr th:only-of-type {\n",
       "        vertical-align: middle;\n",
       "    }\n",
       "\n",
       "    .dataframe tbody tr th {\n",
       "        vertical-align: top;\n",
       "    }\n",
       "\n",
       "    .dataframe thead th {\n",
       "        text-align: right;\n",
       "    }\n",
       "</style>\n",
       "<table border=\"1\" class=\"dataframe\">\n",
       "  <thead>\n",
       "    <tr style=\"text-align: right;\">\n",
       "      <th></th>\n",
       "      <th>bedroomcnt</th>\n",
       "      <th>bathroomcnt</th>\n",
       "      <th>calculatedfinishedsquarefeet</th>\n",
       "      <th>taxvaluedollarcnt</th>\n",
       "      <th>yearbuilt</th>\n",
       "      <th>taxamount</th>\n",
       "      <th>fips</th>\n",
       "      <th>yhat_baseline</th>\n",
       "      <th>yhat</th>\n",
       "    </tr>\n",
       "  </thead>\n",
       "  <tbody>\n",
       "    <tr>\n",
       "      <th>2019113</th>\n",
       "      <td>3</td>\n",
       "      <td>2.0</td>\n",
       "      <td>1651</td>\n",
       "      <td>272534</td>\n",
       "      <td>1945</td>\n",
       "      <td>3310.51</td>\n",
       "      <td>LA</td>\n",
       "      <td>398761.06098</td>\n",
       "      <td>373311.251926</td>\n",
       "    </tr>\n",
       "    <tr>\n",
       "      <th>507360</th>\n",
       "      <td>5</td>\n",
       "      <td>4.0</td>\n",
       "      <td>3390</td>\n",
       "      <td>265241</td>\n",
       "      <td>1973</td>\n",
       "      <td>3534.86</td>\n",
       "      <td>LA</td>\n",
       "      <td>398761.06098</td>\n",
       "      <td>674970.088729</td>\n",
       "    </tr>\n",
       "    <tr>\n",
       "      <th>1074309</th>\n",
       "      <td>4</td>\n",
       "      <td>2.0</td>\n",
       "      <td>1697</td>\n",
       "      <td>438370</td>\n",
       "      <td>1959</td>\n",
       "      <td>5179.76</td>\n",
       "      <td>Orange</td>\n",
       "      <td>398761.06098</td>\n",
       "      <td>381290.726620</td>\n",
       "    </tr>\n",
       "    <tr>\n",
       "      <th>750390</th>\n",
       "      <td>3</td>\n",
       "      <td>1.0</td>\n",
       "      <td>1392</td>\n",
       "      <td>68118</td>\n",
       "      <td>1958</td>\n",
       "      <td>1164.46</td>\n",
       "      <td>LA</td>\n",
       "      <td>398761.06098</td>\n",
       "      <td>328383.340062</td>\n",
       "    </tr>\n",
       "    <tr>\n",
       "      <th>32080</th>\n",
       "      <td>3</td>\n",
       "      <td>2.0</td>\n",
       "      <td>1681</td>\n",
       "      <td>62796</td>\n",
       "      <td>1954</td>\n",
       "      <td>1022.02</td>\n",
       "      <td>Orange</td>\n",
       "      <td>398761.06098</td>\n",
       "      <td>378515.257161</td>\n",
       "    </tr>\n",
       "  </tbody>\n",
       "</table>\n",
       "</div>"
      ],
      "text/plain": [
       "         bedroomcnt  bathroomcnt  calculatedfinishedsquarefeet  \\\n",
       "2019113           3          2.0                          1651   \n",
       "507360            5          4.0                          3390   \n",
       "1074309           4          2.0                          1697   \n",
       "750390            3          1.0                          1392   \n",
       "32080             3          2.0                          1681   \n",
       "\n",
       "         taxvaluedollarcnt  yearbuilt  taxamount    fips  yhat_baseline  \\\n",
       "2019113             272534       1945    3310.51      LA   398761.06098   \n",
       "507360              265241       1973    3534.86      LA   398761.06098   \n",
       "1074309             438370       1959    5179.76  Orange   398761.06098   \n",
       "750390               68118       1958    1164.46      LA   398761.06098   \n",
       "32080                62796       1954    1022.02  Orange   398761.06098   \n",
       "\n",
       "                  yhat  \n",
       "2019113  373311.251926  \n",
       "507360   674970.088729  \n",
       "1074309  381290.726620  \n",
       "750390   328383.340062  \n",
       "32080    378515.257161  "
      ]
     },
     "execution_count": 10,
     "metadata": {},
     "output_type": "execute_result"
    }
   ],
   "source": [
    "train.head()"
   ]
  },
  {
   "cell_type": "markdown",
   "id": "332efcd8",
   "metadata": {},
   "source": [
    "### 3.) plot the residuals for the linear regression model that you made"
   ]
  },
  {
   "cell_type": "code",
   "execution_count": 35,
   "id": "e3ef01eb",
   "metadata": {},
   "outputs": [],
   "source": [
    "train['residual'] =y - train.yhat\n",
    "train['residual_baseline'] = train.yhat_baseline - y"
   ]
  },
  {
   "cell_type": "code",
   "execution_count": 12,
   "id": "ed9c0d9e",
   "metadata": {},
   "outputs": [
    {
     "data": {
      "text/plain": [
       "(1340532,)"
      ]
     },
     "execution_count": 12,
     "metadata": {},
     "output_type": "execute_result"
    }
   ],
   "source": [
    "train.calculatedfinishedsquarefeet.shape"
   ]
  },
  {
   "cell_type": "code",
   "execution_count": 13,
   "id": "4f61c5da",
   "metadata": {},
   "outputs": [
    {
     "data": {
      "text/html": [
       "<div>\n",
       "<style scoped>\n",
       "    .dataframe tbody tr th:only-of-type {\n",
       "        vertical-align: middle;\n",
       "    }\n",
       "\n",
       "    .dataframe tbody tr th {\n",
       "        vertical-align: top;\n",
       "    }\n",
       "\n",
       "    .dataframe thead th {\n",
       "        text-align: right;\n",
       "    }\n",
       "</style>\n",
       "<table border=\"1\" class=\"dataframe\">\n",
       "  <thead>\n",
       "    <tr style=\"text-align: right;\">\n",
       "      <th></th>\n",
       "      <th>bedroomcnt</th>\n",
       "      <th>bathroomcnt</th>\n",
       "      <th>calculatedfinishedsquarefeet</th>\n",
       "      <th>taxvaluedollarcnt</th>\n",
       "      <th>yearbuilt</th>\n",
       "      <th>taxamount</th>\n",
       "      <th>fips</th>\n",
       "      <th>yhat_baseline</th>\n",
       "      <th>yhat</th>\n",
       "      <th>residual</th>\n",
       "      <th>residual_baseline</th>\n",
       "    </tr>\n",
       "  </thead>\n",
       "  <tbody>\n",
       "    <tr>\n",
       "      <th>2019113</th>\n",
       "      <td>3</td>\n",
       "      <td>2.0</td>\n",
       "      <td>1651</td>\n",
       "      <td>272534</td>\n",
       "      <td>1945</td>\n",
       "      <td>3310.51</td>\n",
       "      <td>LA</td>\n",
       "      <td>398761.06098</td>\n",
       "      <td>373311.251926</td>\n",
       "      <td>100777.251926</td>\n",
       "      <td>126227.06098</td>\n",
       "    </tr>\n",
       "    <tr>\n",
       "      <th>507360</th>\n",
       "      <td>5</td>\n",
       "      <td>4.0</td>\n",
       "      <td>3390</td>\n",
       "      <td>265241</td>\n",
       "      <td>1973</td>\n",
       "      <td>3534.86</td>\n",
       "      <td>LA</td>\n",
       "      <td>398761.06098</td>\n",
       "      <td>674970.088729</td>\n",
       "      <td>409729.088729</td>\n",
       "      <td>133520.06098</td>\n",
       "    </tr>\n",
       "    <tr>\n",
       "      <th>1074309</th>\n",
       "      <td>4</td>\n",
       "      <td>2.0</td>\n",
       "      <td>1697</td>\n",
       "      <td>438370</td>\n",
       "      <td>1959</td>\n",
       "      <td>5179.76</td>\n",
       "      <td>Orange</td>\n",
       "      <td>398761.06098</td>\n",
       "      <td>381290.726620</td>\n",
       "      <td>-57079.273380</td>\n",
       "      <td>-39608.93902</td>\n",
       "    </tr>\n",
       "  </tbody>\n",
       "</table>\n",
       "</div>"
      ],
      "text/plain": [
       "         bedroomcnt  bathroomcnt  calculatedfinishedsquarefeet  \\\n",
       "2019113           3          2.0                          1651   \n",
       "507360            5          4.0                          3390   \n",
       "1074309           4          2.0                          1697   \n",
       "\n",
       "         taxvaluedollarcnt  yearbuilt  taxamount    fips  yhat_baseline  \\\n",
       "2019113             272534       1945    3310.51      LA   398761.06098   \n",
       "507360              265241       1973    3534.86      LA   398761.06098   \n",
       "1074309             438370       1959    5179.76  Orange   398761.06098   \n",
       "\n",
       "                  yhat       residual  residual_baseline  \n",
       "2019113  373311.251926  100777.251926       126227.06098  \n",
       "507360   674970.088729  409729.088729       133520.06098  \n",
       "1074309  381290.726620  -57079.273380       -39608.93902  "
      ]
     },
     "execution_count": 13,
     "metadata": {},
     "output_type": "execute_result"
    }
   ],
   "source": [
    "train.head(3)"
   ]
  },
  {
   "cell_type": "code",
   "execution_count": 14,
   "id": "499c4bd6",
   "metadata": {},
   "outputs": [
    {
     "data": {
      "image/png": "[encoded data removed]",
      "text/plain": [
       "<Figure size 576x360 with 1 Axes>"
      ]
     },
     "metadata": {
      "needs_background": "light"
     },
     "output_type": "display_data"
    }
   ],
   "source": [
    "plt.figure(figsize = (8,5))\n",
    "plt.scatter(train.calculatedfinishedsquarefeet , train.residual_baseline)\n",
    "plt.show()"
   ]
  },
  {
   "cell_type": "code",
   "execution_count": 15,
   "id": "f19a98cf",
   "metadata": {},
   "outputs": [
    {
     "data": {
      "image/png": "[encoded data removed]",
      "text/plain": [
       "<Figure size 576x360 with 1 Axes>"
      ]
     },
     "metadata": {
      "needs_background": "light"
     },
     "output_type": "display_data"
    }
   ],
   "source": [
    "plt.figure(figsize = (8,5))\n",
    "plt.scatter(train.calculatedfinishedsquarefeet, train.residual)\n",
    "plt.xlim(0,5000)\n",
    "plt.ylim(-1_000_000)\n",
    "plt.show()"
   ]
  },
  {
   "cell_type": "markdown",
   "id": "0d842d08",
   "metadata": {},
   "source": [
    "### 4 calculate the sum of squared errors, explained sum of squares, total sum of squares, meansquared error, and root mean squared error for your model. "
   ]
  },
  {
   "cell_type": "code",
   "execution_count": 16,
   "id": "8effa1c7",
   "metadata": {},
   "outputs": [
    {
     "data": {
      "text/html": [
       "<div>\n",
       "<style scoped>\n",
       "    .dataframe tbody tr th:only-of-type {\n",
       "        vertical-align: middle;\n",
       "    }\n",
       "\n",
       "    .dataframe tbody tr th {\n",
       "        vertical-align: top;\n",
       "    }\n",
       "\n",
       "    .dataframe thead th {\n",
       "        text-align: right;\n",
       "    }\n",
       "</style>\n",
       "<table border=\"1\" class=\"dataframe\">\n",
       "  <thead>\n",
       "    <tr style=\"text-align: right;\">\n",
       "      <th></th>\n",
       "      <th>bedroomcnt</th>\n",
       "      <th>bathroomcnt</th>\n",
       "      <th>calculatedfinishedsquarefeet</th>\n",
       "      <th>taxvaluedollarcnt</th>\n",
       "      <th>yearbuilt</th>\n",
       "      <th>taxamount</th>\n",
       "      <th>fips</th>\n",
       "      <th>yhat_baseline</th>\n",
       "      <th>yhat</th>\n",
       "      <th>residual</th>\n",
       "      <th>residual_baseline</th>\n",
       "      <th>residual^2</th>\n",
       "      <th>residual_baseline^2</th>\n",
       "    </tr>\n",
       "  </thead>\n",
       "  <tbody>\n",
       "    <tr>\n",
       "      <th>2019113</th>\n",
       "      <td>3</td>\n",
       "      <td>2.0</td>\n",
       "      <td>1651</td>\n",
       "      <td>272534</td>\n",
       "      <td>1945</td>\n",
       "      <td>3310.51</td>\n",
       "      <td>LA</td>\n",
       "      <td>398761.06098</td>\n",
       "      <td>373311.251926</td>\n",
       "      <td>100777.251926</td>\n",
       "      <td>126227.06098</td>\n",
       "      <td>1.015605e+10</td>\n",
       "      <td>1.593327e+10</td>\n",
       "    </tr>\n",
       "    <tr>\n",
       "      <th>507360</th>\n",
       "      <td>5</td>\n",
       "      <td>4.0</td>\n",
       "      <td>3390</td>\n",
       "      <td>265241</td>\n",
       "      <td>1973</td>\n",
       "      <td>3534.86</td>\n",
       "      <td>LA</td>\n",
       "      <td>398761.06098</td>\n",
       "      <td>674970.088729</td>\n",
       "      <td>409729.088729</td>\n",
       "      <td>133520.06098</td>\n",
       "      <td>1.678779e+11</td>\n",
       "      <td>1.782761e+10</td>\n",
       "    </tr>\n",
       "  </tbody>\n",
       "</table>\n",
       "</div>"
      ],
      "text/plain": [
       "         bedroomcnt  bathroomcnt  calculatedfinishedsquarefeet  \\\n",
       "2019113           3          2.0                          1651   \n",
       "507360            5          4.0                          3390   \n",
       "\n",
       "         taxvaluedollarcnt  yearbuilt  taxamount fips  yhat_baseline  \\\n",
       "2019113             272534       1945    3310.51   LA   398761.06098   \n",
       "507360              265241       1973    3534.86   LA   398761.06098   \n",
       "\n",
       "                  yhat       residual  residual_baseline    residual^2  \\\n",
       "2019113  373311.251926  100777.251926       126227.06098  1.015605e+10   \n",
       "507360   674970.088729  409729.088729       133520.06098  1.678779e+11   \n",
       "\n",
       "         residual_baseline^2  \n",
       "2019113         1.593327e+10  \n",
       "507360          1.782761e+10  "
      ]
     },
     "execution_count": 16,
     "metadata": {},
     "output_type": "execute_result"
    }
   ],
   "source": [
    "train['residual^2'] = train.residual ** 2\n",
    "train['residual_baseline^2'] = train.residual_baseline ** 2 \n",
    "train.head(2)"
   ]
  },
  {
   "cell_type": "code",
   "execution_count": 39,
   "id": "113830f8",
   "metadata": {},
   "outputs": [
    {
     "name": "stdout",
     "output_type": "stream",
     "text": [
      " SSE = 9.82203969375538e+16\n",
      "SSE baseline =  1.3196532072001851e+17\n"
     ]
    }
   ],
   "source": [
    "# SUM OF SQUARED ERRORS\n",
    "SSE = sum(train['residual^2'])\n",
    "SSE_baseline = sum(train['residual_baseline^2'])\n",
    "\n",
    "print (\" SSE =\", SSE)\n",
    "print( \"SSE baseline = \" , SSE_baseline)"
   ]
  },
  {
   "cell_type": "code",
   "execution_count": 25,
   "id": "4605015d",
   "metadata": {},
   "outputs": [
    {
     "name": "stdout",
     "output_type": "stream",
     "text": [
      " ESS =  3.374492378244865e+16\n"
     ]
    }
   ],
   "source": [
    "# explained sum of squares\n",
    "ESS = sum((train.yhat - y.mean()) ** 2)\n",
    "print(' ESS = ', ESS)"
   ]
  },
  {
   "cell_type": "code",
   "execution_count": 32,
   "id": "0c17e76d",
   "metadata": {},
   "outputs": [
    {
     "name": "stdout",
     "output_type": "stream",
     "text": [
      "ESS =  3.374492378244865e+16\n",
      "SSE =  9.82203969375538e+16\n",
      "TSS =  1.3196532072000243e+17\n"
     ]
    }
   ],
   "source": [
    "# TOTAL SUM OF SQUARES\n",
    "SSE = train_eval[train_eval.metric=='SSE']['model_error']\n",
    "TSS = ESS + SSE\n",
    "print(\"ESS = \", ESS)\n",
    "print(\"SSE = \", SSE[0])\n",
    "print(\"TSS = \", TSS[0])\n"
   ]
  },
  {
   "cell_type": "code",
   "execution_count": 18,
   "id": "15e73ce9",
   "metadata": {},
   "outputs": [
    {
     "name": "stdout",
     "output_type": "stream",
     "text": [
      "MSE =  73269714514.50156\n",
      "MSE baseline =  98442499485.29279\n"
     ]
    }
   ],
   "source": [
    "# MEAN SQUARED ERROR\n",
    "MSE = SSE/len(train)\n",
    "MSE_baseline = SSE_baseline/len(train)\n",
    "\n",
    "print(\"MSE = \", MSE)\n",
    "print(\"MSE baseline = \", MSE_baseline)\n"
   ]
  },
  {
   "cell_type": "code",
   "execution_count": 19,
   "id": "4bd2effa",
   "metadata": {},
   "outputs": [
    {
     "name": "stdout",
     "output_type": "stream",
     "text": [
      "RMSE =  270683.79063863715\n",
      "RMSE baseline =  313755.4772195902\n"
     ]
    }
   ],
   "source": [
    "# ROOT MEAN SQUARED ERROR\n",
    "RMSE = sqrt(MSE)\n",
    "RMSE_baseline = sqrt(MSE_baseline)\n",
    "\n",
    "print(\"RMSE = \", RMSE)\n",
    "print(\"RMSE baseline = \", RMSE_baseline)\n"
   ]
  },
  {
   "cell_type": "markdown",
   "id": "7186ba58",
   "metadata": {},
   "source": [
    "### 5 "
   ]
  },
  {
   "cell_type": "code",
   "execution_count": 21,
   "id": "63f8f2b5",
   "metadata": {},
   "outputs": [
    {
     "name": "stdout",
     "output_type": "stream",
     "text": [
      "SSE manual == SSE sklearn:  False\n",
      "SSE manual - baseline == SSE sklearn - baseline:  False\n"
     ]
    }
   ],
   "source": [
    "SSE2 = mean_squared_error(y, train.yhat)*len(train)\n",
    "SSE2_baseline = mean_squared_error(y, train.yhat_baseline)*len(train)\n",
    "\n",
    "print(\"SSE manual == SSE sklearn: \", SSE == SSE2) \n",
    "print(\"SSE manual - baseline == SSE sklearn - baseline: \", SSE_baseline == SSE2_baseline) \n"
   ]
  },
  {
   "cell_type": "code",
   "execution_count": 28,
   "id": "04031429",
   "metadata": {},
   "outputs": [],
   "source": [
    " train_eval = pd.DataFrame(np.array(['SSE', 'MSE', 'RMSE']), columns = ['metric'])"
   ]
  },
  {
   "cell_type": "code",
   "execution_count": 40,
   "id": "531605d6",
   "metadata": {},
   "outputs": [],
   "source": [
    "train_eval['model_error'] = np.array([SSE, MSE, RMSE])"
   ]
  },
  {
   "cell_type": "code",
   "execution_count": 41,
   "id": "5a7a1f4f",
   "metadata": {},
   "outputs": [
    {
     "data": {
      "text/plain": [
       "531118"
      ]
     },
     "execution_count": 41,
     "metadata": {},
     "output_type": "execute_result"
    }
   ],
   "source": [
    "train.calculatedfinishedsquarefeet.max()"
   ]
  },
  {
   "cell_type": "code",
   "execution_count": null,
   "id": "e678f87f",
   "metadata": {},
   "outputs": [],
   "source": []
  }
 ],
 "metadata": {
  "kernelspec": {
   "display_name": "Python 3 (ipykernel)",
   "language": "python",
   "name": "python3"
  },
  "language_info": {
   "codemirror_mode": {
    "name": "ipython",
    "version": 3
   },
   "file_extension": ".py",
   "mimetype": "text/x-python",
   "name": "python",
   "nbconvert_exporter": "python",
   "pygments_lexer": "ipython3",
   "version": "3.9.7"
  }
 },
 "nbformat": 4,
 "nbformat_minor": 5
}
